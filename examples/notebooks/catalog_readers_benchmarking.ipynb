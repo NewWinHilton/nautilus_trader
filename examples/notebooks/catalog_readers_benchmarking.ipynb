{
 "cells": [
  {
   "cell_type": "code",
   "execution_count": null,
   "id": "206bb70b-041d-418d-8c45-72ec0de45e8f",
   "metadata": {},
   "outputs": [],
   "source": [
    "import pathlib\n",
    "import pandas as pd\n",
    "from datafusion import SessionContext\n",
    "import pyarrow as pa\n",
    "import polars as pl"
   ]
  },
  {
   "cell_type": "markdown",
   "id": "bc9492a2-b745-45ef-870f-19eeff5de28e",
   "metadata": {},
   "source": [
    "# Data"
   ]
  },
  {
   "cell_type": "markdown",
   "id": "b537226b-725e-4da3-a884-8daf7ee2d86d",
   "metadata": {},
   "source": [
    "Tick data for 6 ETFs downloaded from https://www.dukascopy.com/swiss/english/marketwatch/historical/"
   ]
  },
  {
   "cell_type": "code",
   "execution_count": null,
   "id": "f4bf9274-72bc-4c05-a41b-7f2cc60b0fbc",
   "metadata": {},
   "outputs": [],
   "source": [
    "FOLDER_PATH = \"./dukascopy/download/\""
   ]
  },
  {
   "cell_type": "code",
   "execution_count": null,
   "id": "a5e51886-55c8-4825-a4d0-210082d46dc0",
   "metadata": {},
   "outputs": [],
   "source": [
    "!ls -laRh ./dukascopy/download/\n",
    "\n",
    "# 29M dvyususd-tick-2020-01-01-2020-06-01.parquet\n",
    "# 23M eemususd-tick-2020-01-01-2020-06-01.parquet\n",
    "# 19M fxiususd-tick-2020-01-01-2020-06-01.parquet\n",
    "# 35M ibbususd-tick-2020-01-01-2020-06-01.parquet\n",
    "# 47M iveususd-tick-2020-01-01-2020-06-01.parquet\n",
    "# 42M iwdususd-tick-2020-01-01-2020-06-01.parquet"
   ]
  },
  {
   "cell_type": "markdown",
   "id": "d1fe14c0-c325-446a-b874-b75af0679e21",
   "metadata": {},
   "source": [
    "# DuckDB"
   ]
  },
  {
   "cell_type": "code",
   "execution_count": null,
   "id": "9b762cc9-9f26-40ce-af56-93f9a1e3bb31",
   "metadata": {},
   "outputs": [],
   "source": [
    "import duckdb"
   ]
  },
  {
   "cell_type": "code",
   "execution_count": null,
   "id": "fdd27681-77db-424e-8fdf-5a9ebb655722",
   "metadata": {},
   "outputs": [],
   "source": [
    "con = duckdb.connect()"
   ]
  },
  {
   "cell_type": "code",
   "execution_count": null,
   "id": "41faf18d-ded5-4cd0-ae74-474c0d888368",
   "metadata": {},
   "outputs": [],
   "source": [
    "q = con.execute(f\"\"\"\n",
    "   SELECT *\n",
    "   FROM '{FOLDER_PATH}/*.parquet'\n",
    "\"\"\")\n",
    "result = q.arrow()"
   ]
  },
  {
   "cell_type": "code",
   "execution_count": null,
   "id": "5dea0231-8f95-4579-8c9b-b54de59db6e3",
   "metadata": {},
   "outputs": [],
   "source": [
    "assert result.shape == (29431347, 3)"
   ]
  },
  {
   "cell_type": "code",
   "execution_count": null,
   "id": "55290fc1-6598-4b95-953e-8b1710f0337e",
   "metadata": {},
   "outputs": [],
   "source": [
    "%%timeit \n",
    "q = con.execute(f\"\"\"\n",
    "   SELECT *\n",
    "   FROM '{FOLDER_PATH}/*.parquet'\n",
    "\"\"\")\n",
    "result = q.arrow()\n",
    "# 654 ms ± 9.78 ms per loop (mean ± std. dev. of 7 runs, 1 loop each)"
   ]
  },
  {
   "cell_type": "markdown",
   "id": "b90ffb72-96fb-4c17-b424-91a719f9eedc",
   "metadata": {},
   "source": [
    "# Polars"
   ]
  },
  {
   "cell_type": "code",
   "execution_count": null,
   "id": "8db71753-b9ba-4de8-b5c7-e12a190bd334",
   "metadata": {},
   "outputs": [],
   "source": [
    "s = pl.scan_parquet(f'{FOLDER_PATH}/*.parquet')\n",
    "result = s.collect().to_arrow()"
   ]
  },
  {
   "cell_type": "code",
   "execution_count": null,
   "id": "4745c739-4abe-4f35-816a-69afa8cea3ef",
   "metadata": {},
   "outputs": [],
   "source": [
    "assert result.shape == (29431347, 3)"
   ]
  },
  {
   "cell_type": "code",
   "execution_count": null,
   "id": "f4f7dc10-fdbe-4f6e-88be-fb5ae0257ef1",
   "metadata": {},
   "outputs": [],
   "source": [
    "%%timeit \n",
    "s = pl.scan_parquet(f'{FOLDER_PATH}/*.parquet')\n",
    "result = s.collect().to_arrow()\n",
    "# 354 ms ± 7.09 ms per loop (mean ± std. dev. of 7 runs, 1 loop each)"
   ]
  },
  {
   "cell_type": "markdown",
   "id": "993c2f63-896c-4b5e-989f-45aa97741918",
   "metadata": {},
   "source": [
    "# Datafusion"
   ]
  },
  {
   "cell_type": "code",
   "execution_count": null,
   "id": "e7da6289-9772-4948-ba69-c23048748f28",
   "metadata": {},
   "outputs": [],
   "source": [
    "ctx = SessionContext()\n",
    "ctx.register_parquet('quote_ticks', f'{FOLDER_PATH}')\n",
    "q = ctx.sql(\"select * from quote_ticks\").collect()\n",
    "result = table = pa.Table.from_batches(q)"
   ]
  },
  {
   "cell_type": "code",
   "execution_count": null,
   "id": "d8ee6c3c-ac2d-4aad-94c0-bbfa32d2e698",
   "metadata": {},
   "outputs": [],
   "source": [
    "assert result.shape == (29431347, 3)"
   ]
  },
  {
   "cell_type": "code",
   "execution_count": null,
   "id": "22754ec5-6324-48f6-b999-427b53adb3be",
   "metadata": {},
   "outputs": [],
   "source": [
    "%%timeit \n",
    "ctx = SessionContext()\n",
    "ctx.register_parquet('quote_ticks', f'{FOLDER_PATH}')\n",
    "q = ctx.sql(\"select * from quote_ticks\").collect()\n",
    "result = table = pa.Table.from_batches(q)\n",
    "# 222 ms ± 20.8 ms per loop (mean ± std. dev. of 7 runs, 1 loop each)"
   ]
  },
  {
   "cell_type": "markdown",
   "id": "3d53bf79-d370-414f-ba17-070afa5edf14",
   "metadata": {},
   "source": [
    "# Pandas"
   ]
  },
  {
   "cell_type": "code",
   "execution_count": null,
   "id": "ce710a21-39d0-4213-aa7e-aa3acc4d43ce",
   "metadata": {},
   "outputs": [],
   "source": [
    "dfs = pd.read_parquet(FOLDER_PATH)"
   ]
  },
  {
   "cell_type": "code",
   "execution_count": null,
   "id": "9eadd3e3-39b7-46ff-91bf-eb242c65fa30",
   "metadata": {},
   "outputs": [],
   "source": [
    "%%timeit \n",
    "\n",
    "df = pd.read_parquet(FOLDER_PATH, pre_buffer=True)\n",
    "result = pa.Table.from_pandas(df)\n",
    "# 363 ms ± 37.9 ms per loop (mean ± std. dev. of 7 runs, 1 loop each)"
   ]
  },
  {
   "cell_type": "code",
   "execution_count": null,
   "id": "e588c1fe-8089-422e-9bcd-9e9304c289ce",
   "metadata": {},
   "outputs": [],
   "source": []
  }
 ],
 "metadata": {
  "kernelspec": {
   "display_name": "Python (nautilus_trader)",
   "language": "python",
   "name": "nautilus_trader"
  },
  "language_info": {
   "codemirror_mode": {
    "name": "ipython",
    "version": 3
   },
   "file_extension": ".py",
   "mimetype": "text/x-python",
   "name": "python",
   "nbconvert_exporter": "python",
   "pygments_lexer": "ipython3",
   "version": "3.11.0"
  }
 },
 "nbformat": 4,
 "nbformat_minor": 5
}
